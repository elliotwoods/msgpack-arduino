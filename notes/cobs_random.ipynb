{
 "cells": [
  {
   "cell_type": "code",
   "execution_count": 20,
   "metadata": {},
   "outputs": [],
   "source": [
    "from cobs import cobs\n",
    "import random\n",
    "import csv\n",
    "\n",
    "count = 10000\n",
    "\n",
    "raw = []\n",
    "\n",
    "for i in range(count):\n",
    "\tdata = random.randint(0, 255)\n",
    "\traw.append(data)\n",
    "\n",
    "def write_array(file, array, name):\n",
    "\tfile.write(\"#include <vector>\\n\")\n",
    "\tfile.write(\"#include <stdint.h>\\n\")\n",
    "\tfile.write(\"std::vector<uint8_t> \" + name + \" {\\n\\t\")\n",
    "\n",
    "\twriter = csv.writer(file)\n",
    "\twriter.writerow(array)\n",
    "\n",
    "\tfile.write(\"};\\n\")\n",
    "\n",
    "with open(\"../test/test_cobs_file/raw.h\", \"w\") as file:\n",
    "\twrite_array(file, raw, \"raw\")\n",
    "\n",
    "encoded = cobs.encode(bytearray(raw))\n",
    "\n",
    "with open(\"../test/test_cobs_file/encoded.h\", \"w\") as file:\n",
    "\twrite_array(file, list(encoded), \"encoded\")\n"
   ]
  }
 ],
 "metadata": {
  "interpreter": {
   "hash": "82b0de68545f78ab7a5fb705903fe28068dd8fc77393edae6a55556bceb4048e"
  },
  "kernelspec": {
   "display_name": "Python 3.7.7 ('base')",
   "language": "python",
   "name": "python3"
  },
  "language_info": {
   "codemirror_mode": {
    "name": "ipython",
    "version": 3
   },
   "file_extension": ".py",
   "mimetype": "text/x-python",
   "name": "python",
   "nbconvert_exporter": "python",
   "pygments_lexer": "ipython3",
   "version": "3.7.7"
  },
  "orig_nbformat": 4
 },
 "nbformat": 4,
 "nbformat_minor": 2
}
